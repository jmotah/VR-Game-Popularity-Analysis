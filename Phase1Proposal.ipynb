{
 "cells": [
  {
   "cell_type": "markdown",
   "id": "8cbd8d62-7b25-4590-aa1e-1395ce8b5038",
   "metadata": {},
   "source": [
    "## Phase I Project Proposal\n",
    "### What Makes Virtual Reality Popular?\n",
    "\n",
    "#### Name: Miles Gallagher, DS 3000"
   ]
  },
  {
   "cell_type": "markdown",
   "id": "b18e839c-1ef4-4fe0-b2dc-a0cacbe3aa6c",
   "metadata": {},
   "source": [
    "### Introduction\n",
    "Virtual Reality has been rapidly revolutionizing gaming by providing the most immersive experiences, allowing users to engage inside of digital environments in a deeply interactive way. Despite VR growing in popularity, developers need a clear understanding of what's driving engagement to create a more compelling audience. For the project I want to focus on identifying the key factors which affect user engagement in VR games and answering these questions. \n",
    "1. What are the most popular VR games on Steam?\n",
    "2. How do factors such as price, genre, and reviews influence the success of VR games?\n",
    "https://www.grandviewresearch.com/industry-analysis/virtual-reality-vr-headset-market\n",
    "https://www.cnet.com/pictures/best-vr-games/\n"
   ]
  },
  {
   "cell_type": "markdown",
   "id": "f1dd9251-8c31-4561-8085-aace74e90e76",
   "metadata": {},
   "source": [
    "### Data Collection\n",
    "\n",
    "The data for this project is collected directly from Steam’s website using web scraping. Steam is the largest digital distribution platform for PC gaming. Then I will use BeautifulSoup to extract additional information from specifically data-tooltip-html into Python.  So far I have created a function which gathers some of the top rated VR games. Later, I will create another function which will go in depth on number of reviews, price, and genre. "
   ]
  },
  {
   "cell_type": "code",
   "execution_count": 102,
   "id": "c16676a7-8125-44b4-825c-fa944a551dd8",
   "metadata": {},
   "outputs": [
    {
     "name": "stdout",
     "output_type": "stream",
     "text": [
      "                                                Name Steam ID   Price  \\\n",
      "0                                        War Thunder   236390    Free   \n",
      "1                                       Phasmophobia   739630  $19.99   \n",
      "2  Microsoft Flight Simulator 40th Anniversary Ed...  1250410  $59.99   \n",
      "3                      HITMAN World of Assassination  1659040  $27.99   \n",
      "4                                      Assetto Corsa   244210  $19.99   \n",
      "\n",
      "  Number of Reviews           Average Review      Operating Systems  \n",
      "0            546797          Mostly Positive  Windows, macOS, Linux  \n",
      "1            578428  Overwhelmingly Positive                Windows  \n",
      "2             58993          Mostly Positive                Windows  \n",
      "3             28167            Very Positive                Windows  \n",
      "4            104555            Very Positive                Windows  \n"
     ]
    }
   ],
   "source": [
    "import requests\n",
    "from bs4 import BeautifulSoup\n",
    "import pandas as pd\n",
    "\n",
    "def fetch_popular_vr_games(limit=5):\n",
    "    \"\"\"\n",
    "    Fetches popular VR games from Steam, including their app IDs, prices, number of reviews, positive review percentages, \n",
    "    and supported operating systems (Windows, macOS, Linux), and VR support.\n",
    "\n",
    "    Args:\n",
    "        limit (int): Number of games to retrieve.\n",
    "\n",
    "    Returns:\n",
    "        pd.DataFrame: DataFrame containing popular VR games and information.\n",
    "    \"\"\"\n",
    "    url = \"https://store.steampowered.com/search/?sort_by=_ASC&ignore_preferences=1&tags=21978&category1=998&vrsupport=101&os=win&supportedlang=english\"\n",
    "    \n",
    "    response = requests.get(url)\n",
    "    soup = BeautifulSoup(response.text, \"html.parser\")\n",
    "    \n",
    "    games = []\n",
    "    # Find game details, limited to 5.\n",
    "    game_rows = soup.find_all(\"a\", {\"class\": \"search_result_row\"})[:limit]\n",
    "    for game in game_rows:\n",
    "        game_title = game.find(\"span\", class_=\"title\").text.strip()\n",
    "        app_id = game[\"data-ds-appid\"]\n",
    "        price_tag = game.find(\"div\", {\"class\": \"discount_final_price\"})\n",
    "        price = price_tag.text.strip() if price_tag else \"Free\"\n",
    "        \n",
    "        # Extract the review data.\n",
    "        reviews_summary = game.find(\"span\", {\"class\": \"search_review_summary\"})\n",
    "        if reviews_summary:\n",
    "            reviews_tooltip = reviews_summary.get(\"data-tooltip-html\")\n",
    "            if reviews_tooltip: \n",
    "                parts = reviews_tooltip.split(\"<br>\")\n",
    "                positive_percentage = parts[0].strip()\n",
    "                review_part = parts[1]\n",
    "                reviews_count = review_part.split(\"of\")[-1].split(\"user\")[0].replace(\"the\", \"\").strip().replace(\",\", \"\") \n",
    "    \n",
    "        # Extract supported platforms \n",
    "        os_supported = []\n",
    "        if game.find(\"span\", class_=\"platform_img win\"):\n",
    "            os_supported.append(\"Windows\")\n",
    "        if game.find(\"span\", class_=\"platform_img mac\"):\n",
    "            os_supported.append(\"macOS\")\n",
    "        if game.find(\"span\", class_=\"platform_img linux\"):\n",
    "            os_supported.append(\"Linux\")\n",
    "            \n",
    "        # Appends game data to list.\n",
    "        games.append({\n",
    "            \"Name\": game_title,\n",
    "            \"Steam ID\": app_id,\n",
    "            \"Price\": price,\n",
    "            \"Number of Reviews\": reviews_count,\n",
    "            \"Average Review\": positive_percentage,\n",
    "            \"Operating Systems\": \", \".join(os_supported)\n",
    "        })\n",
    "    \n",
    "    return pd.DataFrame(games)\n",
    "\n",
    "# Fetches and displays the popular VR games.\n",
    "vr_games_df = fetch_popular_vr_games(limit=5)\n",
    "print(vr_games_df)\n",
    "\n"
   ]
  },
  {
   "cell_type": "markdown",
   "id": "30c4ee3e-875b-40af-a136-2cf7f5983e7f",
   "metadata": {},
   "source": [
    "### Data Usage\n",
    "The data collected from Steam, including game names, prices, number of reviews, and positive review percentage will be used to explore key factors that will influence user engagement in VR games. One feature key part of data I am wanting to integrate into the function is genres, which I believe is very important in differentiating the types of games. One hicup is that the search does not have genre's provided, so I may need to make another function to extract genre data from the actual store-page. I also added platforms later on as I believed it was important in seeing if supporting more platforms than just windows could affect popularity. By analyzing relationships between these features, predicting future shifts where gaming and Virtual Reality itself could be possible. But importantly, improving user engagement will be more likely in bettering VR as a whole.\n"
   ]
  }
 ],
 "metadata": {
  "kernelspec": {
   "display_name": "Python 3 (ipykernel)",
   "language": "python",
   "name": "python3"
  },
  "language_info": {
   "codemirror_mode": {
    "name": "ipython",
    "version": 3
   },
   "file_extension": ".py",
   "mimetype": "text/x-python",
   "name": "python",
   "nbconvert_exporter": "python",
   "pygments_lexer": "ipython3",
   "version": "3.12.6"
  }
 },
 "nbformat": 4,
 "nbformat_minor": 5
}
